{
 "cells": [
  {
   "cell_type": "code",
   "execution_count": null,
   "metadata": {},
   "outputs": [],
   "source": [
    "from bs4 import BeautifulSoup"
   ]
  },
  {
   "cell_type": "code",
   "execution_count": null,
   "metadata": {},
   "outputs": [],
   "source": [
    "# 读取文件\n",
    "with open('TotalHtml.html', 'r') as f:\n",
    "    html = f.read()"
   ]
  },
  {
   "cell_type": "code",
   "execution_count": null,
   "metadata": {},
   "outputs": [],
   "source": [
    "# 使用lxml解析器\n",
    "soup = BeautifulSoup(html, 'lxml')"
   ]
  },
  {
   "cell_type": "code",
   "execution_count": null,
   "metadata": {},
   "outputs": [],
   "source": [
    "# 获取所有类名为msg chat left 的div标签\n",
    "divs = soup.find_all('div', class_='msg chat left')\n",
    "print(len(divs))"
   ]
  },
  {
   "cell_type": "code",
   "execution_count": null,
   "metadata": {},
   "outputs": [],
   "source": [
    "# 从divs中获取所有类名为wxemoji的img标签\n",
    "imgs = [div.find_all('img', class_='wxemoji') for div in divs]\n",
    "print(len(imgs))"
   ]
  },
  {
   "cell_type": "code",
   "execution_count": null,
   "metadata": {},
   "outputs": [],
   "source": [
    "# 从imgs中获取所有的title属性\n",
    "titles = [img['title'] for sublist in imgs for img in sublist if img is not None]\n",
    "print(len(titles))"
   ]
  },
  {
   "cell_type": "code",
   "execution_count": null,
   "metadata": {},
   "outputs": [],
   "source": [
    "# 去除空值\n",
    "titles = [title for title in titles if title]\n",
    "print(len(titles))"
   ]
  },
  {
   "cell_type": "code",
   "execution_count": null,
   "metadata": {},
   "outputs": [],
   "source": [
    "# 统计每个title出现的次数\n",
    "title_count = {}\n",
    "for title in titles:\n",
    "    title_count[title] = title_count.get(title, 0) + 1\n",
    "\n",
    "# 按照出现次数排序\n",
    "title_count = sorted(title_count.items(), key=lambda x: x[1], reverse=True)\n",
    "\n",
    "# 循环打印前10个\n",
    "for title, count in title_count[:10]:\n",
    "    print(title, count)"
   ]
  }
 ],
 "metadata": {
  "kernelspec": {
   "display_name": "ML_project",
   "language": "python",
   "name": "python3"
  },
  "language_info": {
   "codemirror_mode": {
    "name": "ipython",
    "version": 3
   },
   "file_extension": ".py",
   "mimetype": "text/x-python",
   "name": "python",
   "nbconvert_exporter": "python",
   "pygments_lexer": "ipython3",
   "version": "3.10.13"
  }
 },
 "nbformat": 4,
 "nbformat_minor": 2
}
