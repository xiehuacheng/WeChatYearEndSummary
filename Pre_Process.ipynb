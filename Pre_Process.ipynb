{
 "cells": [
  {
   "cell_type": "code",
   "execution_count": null,
   "metadata": {},
   "outputs": [],
   "source": [
    "import pandas as pd"
   ]
  },
  {
   "cell_type": "code",
   "execution_count": null,
   "metadata": {},
   "outputs": [],
   "source": [
    "# 读取excel文件\n",
    "df = pd.read_excel('TotalHtml.html.xlsx', header=None, index_col=None, names=['date&time', 'message'])\n",
    "\n",
    "# 打印前5行\n",
    "print(df.head())\n",
    "\n",
    "# 打印总数\n",
    "print(df.count())"
   ]
  },
  {
   "cell_type": "code",
   "execution_count": null,
   "metadata": {},
   "outputs": [],
   "source": [
    "# 去除任一列为空的行\n",
    "df = df.dropna(how='any')\n",
    "\n",
    "# 打印总数\n",
    "print(df.count())"
   ]
  },
  {
   "cell_type": "code",
   "execution_count": null,
   "metadata": {},
   "outputs": [],
   "source": [
    "# print(df['date&time'].str.split(' ', expand=True))\n",
    "\n",
    "# 将日期和时间分开\n",
    "df['date'] = df['date&time'].str.split(' ', expand=True)[1]\n",
    "df['time'] = df['date&time'].str.split(' ', expand=True)[2]\n",
    "\n",
    "# 打印前5行\n",
    "print(df.head())\n",
    "\n",
    "# 时间和信息交换位置\n",
    "df = df[['date', 'time', 'message']]\n",
    "\n",
    "# 打印前5行\n",
    "print(df.head())"
   ]
  },
  {
   "cell_type": "code",
   "execution_count": null,
   "metadata": {},
   "outputs": [],
   "source": [
    "# 保存为csv文件\n",
    "df.to_csv('Data.csv', index=False, header=True)"
   ]
  }
 ],
 "metadata": {
  "kernelspec": {
   "display_name": "daily",
   "language": "python",
   "name": "python3"
  },
  "language_info": {
   "codemirror_mode": {
    "name": "ipython",
    "version": 3
   },
   "file_extension": ".py",
   "mimetype": "text/x-python",
   "name": "python",
   "nbconvert_exporter": "python",
   "pygments_lexer": "ipython3",
   "version": "3.10.13"
  }
 },
 "nbformat": 4,
 "nbformat_minor": 2
}
