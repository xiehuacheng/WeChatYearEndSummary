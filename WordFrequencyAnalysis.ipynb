{
 "cells": [
  {
   "cell_type": "code",
   "execution_count": null,
   "metadata": {},
   "outputs": [],
   "source": [
    "import pandas as pd\n",
    "import jieba"
   ]
  },
  {
   "cell_type": "code",
   "execution_count": null,
   "metadata": {},
   "outputs": [],
   "source": [
    "# 读取数据\n",
    "df = pd.read_csv('data.csv', encoding='utf-8')\n",
    "\n",
    "# 打印前5行\n",
    "print(df.head(5))"
   ]
  },
  {
   "cell_type": "code",
   "execution_count": null,
   "metadata": {},
   "outputs": [],
   "source": [
    "# 取出message列\n",
    "messages = df['message']\n",
    "\n",
    "# 对message列进行分词\n",
    "words = []\n",
    "for message in messages:\n",
    "    words += jieba.lcut(message)\n",
    "    \n",
    "# 打印前5个分词结果\n",
    "print(words[:5])"
   ]
  },
  {
   "cell_type": "code",
   "execution_count": null,
   "metadata": {},
   "outputs": [],
   "source": [
    "# 去除hit_stopwords.txt中的停用词\n",
    "stopwords = []\n",
    "with open('hit_stopwords.txt', 'r', encoding='utf-8') as f:\n",
    "    for line in f.readlines():\n",
    "        stopwords.append(line.strip())\n",
    "        \n",
    "# 去除words中的停用词\n",
    "words = [word for word in words if word not in stopwords]"
   ]
  },
  {
   "cell_type": "code",
   "execution_count": null,
   "metadata": {},
   "outputs": [],
   "source": [
    "# 统计词频\n",
    "word_counts = {}\n",
    "threshold = 2\n",
    "for word in words:\n",
    "    # if len(word) != threshold:\n",
    "    #     continue\n",
    "    if len(word) < threshold:\n",
    "        continue\n",
    "    if word in word_counts:\n",
    "        word_counts[word] += 1\n",
    "    else:\n",
    "        word_counts[word] = 1\n",
    "        \n",
    "# 按照词频降序排列\n",
    "word_counts = sorted(word_counts.items(), key=lambda x: x[1], reverse=True)\n",
    "\n",
    "# 打印前10个词频\n",
    "for word_count in word_counts[:10]:\n",
    "    print(word_count[0], word_count[1])"
   ]
  }
 ],
 "metadata": {
  "kernelspec": {
   "display_name": "ML_project",
   "language": "python",
   "name": "python3"
  },
  "language_info": {
   "codemirror_mode": {
    "name": "ipython",
    "version": 3
   },
   "file_extension": ".py",
   "mimetype": "text/x-python",
   "name": "python",
   "nbconvert_exporter": "python",
   "pygments_lexer": "ipython3",
   "version": "3.10.13"
  }
 },
 "nbformat": 4,
 "nbformat_minor": 2
}
