{
 "cells": [
  {
   "cell_type": "code",
   "execution_count": null,
   "metadata": {},
   "outputs": [],
   "source": [
    "import pandas as pd\n",
    "import matplotlib.pyplot as plt"
   ]
  },
  {
   "cell_type": "code",
   "execution_count": null,
   "metadata": {},
   "outputs": [],
   "source": [
    "# 读取数据\n",
    "df = pd.read_csv('data.csv', encoding='utf-8')\n",
    "\n",
    "# 打印前5行\n",
    "print(df.head())"
   ]
  },
  {
   "cell_type": "code",
   "execution_count": null,
   "metadata": {},
   "outputs": [],
   "source": [
    "# 取出date和time列\n",
    "df = df[['date', 'time']]\n",
    "\n",
    "# 打印前5行\n",
    "print(df.head())"
   ]
  },
  {
   "cell_type": "code",
   "execution_count": null,
   "metadata": {},
   "outputs": [],
   "source": [
    "# 去除date列日期不在2023年的数据\n",
    "df = df[df['date'].str.contains('2023')]\n",
    "\n",
    "# 打印前5行\n",
    "print(df.head())"
   ]
  },
  {
   "cell_type": "code",
   "execution_count": null,
   "metadata": {},
   "outputs": [],
   "source": [
    "# 对date列进行统计，打印前10个\n",
    "print(df['date'].value_counts()[:10])\n",
    "\n",
    "# 对time列的小时进行统计，打印前10个\n",
    "print(df['time'].str.split(':').str[0].value_counts()[:10])"
   ]
  },
  {
   "cell_type": "code",
   "execution_count": null,
   "metadata": {},
   "outputs": [],
   "source": [
    "# 对date列的日期进行统计，并按照日期排序，绘制折线图\n",
    "df['date'].value_counts().sort_index().plot(kind='line', figsize=(9, 6), color='orange')\n",
    "# 设置y轴标签\n",
    "plt.ylabel('count')"
   ]
  },
  {
   "cell_type": "code",
   "execution_count": null,
   "metadata": {},
   "outputs": [],
   "source": [
    "# 对time列的小时进行统计，并按照小时排序，绘制折线图\n",
    "df['time'].str.split(':').str[0].value_counts().sort_index().plot(kind='line', figsize=(14, 10), color='green')\n",
    "# 设置y轴标签\n",
    "plt.ylabel('count')"
   ]
  },
  {
   "cell_type": "code",
   "execution_count": null,
   "metadata": {},
   "outputs": [],
   "source": [
    "# 对time列的小时和分钟进行统计，并按照小时和分钟排序，绘制折线图\n",
    "df['time'].str.split(':').str[:2].str.join(':').value_counts().sort_index().plot(kind='line', figsize=(7, 5), color='green')\n",
    "# 设置y轴标签\n",
    "plt.ylabel('count')"
   ]
  }
 ],
 "metadata": {
  "kernelspec": {
   "display_name": "ML_project",
   "language": "python",
   "name": "python3"
  },
  "language_info": {
   "codemirror_mode": {
    "name": "ipython",
    "version": 3
   },
   "file_extension": ".py",
   "mimetype": "text/x-python",
   "name": "python",
   "nbconvert_exporter": "python",
   "pygments_lexer": "ipython3",
   "version": "3.10.13"
  }
 },
 "nbformat": 4,
 "nbformat_minor": 2
}
